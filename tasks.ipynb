{
 "cells": [
  {
   "cell_type": "markdown",
   "metadata": {},
   "source": [
    "## Applied Statistics ##\n",
    "\n",
    "### Tasks ###"
   ]
  },
  {
   "cell_type": "markdown",
   "metadata": {},
   "source": [
    "#### Task 1: Permutations and Combinations ####"
   ]
  },
  {
   "cell_type": "markdown",
   "metadata": {},
   "source": [
    "This task involves a slight modificaiton of Ronald A. Fisher's \"Lady Tasting Tea\" experiment from 1935. This experiment involves making eight cups of tea, four of which have the tea put in first followed by the milk and the other four with the milk put in first followed by the tea; the lady referred to in the name of the experiment then tastes each cup of tea and tries to determine which cups had the milk put in first. Instead of using eight cups, we will analyse the experiement including twelve cups of tea."
   ]
  },
  {
   "cell_type": "markdown",
   "metadata": {},
   "source": [
    "The task as outlined by the lecturer is as follows:\n",
    "\n",
    "*Suppose we alter the Lady Tasting Tea experiment to involve twelve cups of tea. Six have the milk in first and the other six having tea in first. A person claims they have the special power of being able to tell whether the tea or the milk went into a cup first upon tasting it. You agree to accept their claim if they can tell which of the six cups in your experiment had the milk in first.*\n",
    "\n",
    "*1. Calculate, using Python, the probability that they select the correct six cups. Here you should assume that they have no special powers in figuring it out, that they are just guessing. Remember to show and justify your workings in code and MarkDown cells.*\n",
    "\n",
    "*2. Suppose, now, you are willing to accept one error. Once they select the six cups they think had the milk in first, you will give them the benefit of the doubt should they have selected at least five of the correct cups. Calculate the probability, assuming they have no special powers, that the person makes at most one error.*\n",
    "\n",
    "*3. Would you accept two errors? Explain.*"
   ]
  },
  {
   "cell_type": "markdown",
   "metadata": {},
   "source": [
    "To complete this task, I will will first install the same libraries that the lecturer installed before he analysed the original version of the experiment:"
   ]
  },
  {
   "cell_type": "code",
   "execution_count": 36,
   "metadata": {},
   "outputs": [],
   "source": [
    "# Mathematical functions from the standard library.\n",
    "# https://docs.python.org/3/library/math.html\n",
    "import math\n",
    "\n",
    "# Permutations and combinations.\n",
    "# https://docs.python.org/3/library/itertools.html\n",
    "import itertools\n",
    "\n",
    "# Random selections.\n",
    "# https://docs.python.org/3/library/random.html\n",
    "import random\n",
    "\n",
    "# Numerical structures and operations.\n",
    "# https://numpy.org/doc/stable/reference/index.html#reference\n",
    "import numpy as np\n",
    "\n",
    "# Plotting.\n",
    "# https://matplotlib.org/stable/contents.html\n",
    "import matplotlib.pyplot as plt"
   ]
  },
  {
   "cell_type": "markdown",
   "metadata": {},
   "source": [
    "To answer the first question, we need to find the probability of correctly guessing 6 cups of tea out of 12 cups. The order that we select the 6 cups does not matter, so we are looking for the correct combination of 6 cups from the 12 cups. \n",
    "\n",
    "*If* we cared about the order the cups were selected, we would be seeking a *permutation* of the 12 listed a specific order, including the 6 cups with the milk put in first. \n",
    "\n",
    "Instead, to calculate the *combination* of 6 cups from 12, we can use the *math.comb()* method:"
   ]
  },
  {
   "cell_type": "code",
   "execution_count": 37,
   "metadata": {},
   "outputs": [
    {
     "name": "stdout",
     "output_type": "stream",
     "text": [
      "The probability of correctly selecting all 6 'milk-first' cups is 0.0011.\n"
     ]
    }
   ],
   "source": [
    "# Firstly we calculate the number of ways of selecting any 6 cups from the 12 cups\n",
    "all_combinations = math.comb(12,6)\n",
    "\n",
    "# The probability of selecting the one correct combination of 6 cups correctly from the 12 cups\n",
    "prob_6_correct = 1 / all_combinations\n",
    "\n",
    "# Printing the probability result out to four decimal places\n",
    "print(f\"The probability of correctly selecting all 6 'milk-first' cups is {round(prob_6_correct, 4)}.\")"
   ]
  },
  {
   "cell_type": "markdown",
   "metadata": {},
   "source": [
    "For the next question, we need to calculate the probability that the person makes *at most* one error. This means that they either select 5 of the 6 cups correctly, or else they select all 6 correctly. To find the probability of this happening if the person has no special power to guess, we find the probability of selecting 5 cups correctly and add it to the probability of selecting all 6 correctly, which was calculated in the answer to the first question above.\n",
    "\n",
    "The probability of correctly selecting 5 out of the 6 'milk-first' cups requires us to work out how many combinations of 5 'milk-first' cups can be selected from the 6 'milk-first' cups and then multiplying this number of scenarios by the number of ways it is then possible to select 1 of the remaining 'tea-first' cups; this answer to the latter part is simply 6, as there are only 6 'tea-first' cups to choose from."
   ]
  },
  {
   "cell_type": "code",
   "execution_count": 38,
   "metadata": {},
   "outputs": [
    {
     "name": "stdout",
     "output_type": "stream",
     "text": [
      "The probability of correctly selecting at least 5 of the 'milk-first' cups is 0.04.\n"
     ]
    }
   ],
   "source": [
    "# Finding the number of combinations of 5 milk-first cups out of the 6 available, and multiplying it by the number of ways to \n",
    "# select 1 tea-first cup from the remaining 6 such cups\n",
    "ways_5_correct = math.comb(6,5) * math.comb (6,1)\n",
    "\n",
    "# dividing the above figure by the number of ways of selecting any 6 cups from the 12 cups\n",
    "prob_5_correct = ways_5_correct / all_combinations\n",
    "\n",
    "# finding the probability of selecting at most 1 wrong ie. at least 5 out of 6 correct\n",
    "prob_5_or_6_correct = prob_5_correct + prob_6_correct\n",
    "\n",
    "# Printing the probability result out to four decimal places\n",
    "print(f\"The probability of correctly selecting at least 5 of the 'milk-first' cups is {round(prob_5_or_6_correct, 4)}.\")\n"
   ]
  },
  {
   "cell_type": "markdown",
   "metadata": {},
   "source": [
    "The third part of this task asks us to consider whether we would accept two errors. Another way of phrasing this might be, would we consider selecting 4 out of the 6 'milk-first' cups to be indicative of a special ability to determine whether a cup of tea had the milk or tea poured into it first, or would we consider the probability too high that somebody who doesn't have such a special ability could correctly select 4 'milk-first' cups by chance?\n",
    "\n",
    "To calculate the probability of selecting 4 or more of the 'milk-first' cups correctly, we can do a similar calculation to the one we did to calculate the probability of selecting 5 or more correctly:"
   ]
  },
  {
   "cell_type": "code",
   "execution_count": 39,
   "metadata": {},
   "outputs": [
    {
     "name": "stdout",
     "output_type": "stream",
     "text": [
      "The probability of correctly selecting at least 4 of the 'milk-first' cups is 0.2835.\n"
     ]
    }
   ],
   "source": [
    "# The number of ways to select 4 out of the 6 'milk-first' cups multiplied by the number of ways to select 2 out of the 6 'tea-first' cups.\n",
    "ways_4_correct = math.comb(6,4) * math.comb (6,2)\n",
    "\n",
    "# dividing the above figure by the number of ways of selecting any 6 cups from the 12 cups\n",
    "prob_4_correct = ways_4_correct / all_combinations\n",
    "\n",
    "# finding the probability of selecting at most 2 wrong ie. at least 4 out of 6 correct, using the result from the last question\n",
    "prob_4_or_5_or_6_correct = prob_4_correct + prob_5_or_6_correct\n",
    "\n",
    "# Printing the result out to four decimal places\n",
    "print(f\"The probability of correctly selecting at least 4 of the 'milk-first' cups is {round(prob_4_or_5_or_6_correct, 4)}.\")"
   ]
  },
  {
   "cell_type": "markdown",
   "metadata": {},
   "source": [
    "To visualise how relatively likely selecting 4 'milk-first' cups correctly is compared with other possible outcomes, I will create a bar chart of the probability of each of the 7 possible outcomes (ie. selecting from 0 to 6 'milk-first' cups). To do this, I will first need to calculate each probability using the same combinations calculation I used for the probability of selecting 4, 5 and 6 'milk-first' cups correctly:"
   ]
  },
  {
   "cell_type": "code",
   "execution_count": 40,
   "metadata": {},
   "outputs": [],
   "source": [
    "ways_0_correct = math.comb(6,0) * math.comb(6,6)\n",
    "prob_0_correct = ways_0_correct / all_combinations\n",
    "\n",
    "ways_1_correct = math.comb(6,1) * math.comb(6,5)\n",
    "prob_1_correct = ways_1_correct / all_combinations\n",
    "\n",
    "ways_2_correct = math.comb(6,2) * math.comb(6,4)\n",
    "prob_2_correct = ways_2_correct / all_combinations\n",
    "\n",
    "ways_3_correct = math.comb(6,3) * math.comb(6,3)\n",
    "prob_3_correct = ways_3_correct / all_combinations\n"
   ]
  },
  {
   "cell_type": "markdown",
   "metadata": {},
   "source": [
    "I will now plot all seven probability figures on a bar chart:"
   ]
  },
  {
   "cell_type": "code",
   "execution_count": 41,
   "metadata": {},
   "outputs": [
    {
     "data": {
      "image/png": "[encoded data removed]",
      "text/plain": [
       "<Figure size 800x500 with 1 Axes>"
      ]
     },
     "metadata": {},
     "output_type": "display_data"
    }
   ],
   "source": [
    "# Create a list of outcomes to include in the bar chart across the x-axis, and the probabilities of each outcome across the y-axis\n",
    "outcomes = [\"0 Correct\", \"1 Correct\", \"2 Correct\", \"3 Correct\", \"4 Correct\", \"5 Correct\", \"6 Correct\"]\n",
    "probabilities = [prob_0_correct, prob_1_correct, prob_2_correct, prob_3_correct, prob_4_correct, prob_5_correct, prob_6_correct]\n",
    "\n",
    "# To colour the bars for 4 or more cups differently to the bars for 3 or fewer cups, we can use an if-else statement\n",
    "colours = [\"gold\" if outcome in [\"0 Correct\", \"1 Correct\", \"2 Correct\", \"3 Correct\"] else \"brown\" for outcome in outcomes]\n",
    "\n",
    "# plotting the bar chart \n",
    "# https://www.geeksforgeeks.org/bar-plot-in-matplotlib/\n",
    "plt.figure(figsize=(8, 5))\n",
    "\n",
    "# Passing in the numerical data for each outcome, colouring the bars, and giving the bars darkened sides to improve appearance\n",
    "# https://python-graph-gallery.com/3-control-color-of-barplots/\n",
    "plt.bar(outcomes, probabilities, color=colours, edgecolor='black')\n",
    "plt.xlabel(\"Number of 'milk-first' cups selected\")\n",
    "plt.ylabel(\"Probability\")\n",
    "plt.title(\"Probability of selecting zero to six 'milk-first' cups correctly\")\n",
    "plt.show()"
   ]
  },
  {
   "cell_type": "markdown",
   "metadata": {},
   "source": [
    "From looking at this bar chart, I am even more convinced that allowing a person the chance to make two errors is too generous an allowance to give, as such an outcome if not unlikely by any means."
   ]
  },
  {
   "cell_type": "markdown",
   "metadata": {},
   "source": [
    "#### Task 2: numpy's Normal Distribution ####"
   ]
  },
  {
   "cell_type": "markdown",
   "metadata": {},
   "source": [
    "The lecturer's instruction for this task is as follows:\n",
    "\n",
    "*1. In this task you will assess whether numpy.random.normal() properly generates normal values. To begin, generate a sample of one hundred thousand values using the function with mean 10.0 and standard deviation 3.0.*\n",
    "\n",
    "*Use the scipy.stats.shapiro() function to test whether your sample came from a normal distribution. Explain the results and output.*\n",
    "\n",
    "*2. Plot a histogram of your values and plot the corresponding normal distribution probability density function on top of it.*"
   ]
  },
  {
   "cell_type": "markdown",
   "metadata": {},
   "source": [
    "Before beginning this task, I will import additional libraries used by the lecturer when demonstrating the nomral distribution with his code:"
   ]
  },
  {
   "cell_type": "code",
   "execution_count": 42,
   "metadata": {},
   "outputs": [],
   "source": [
    "# Statistics.\n",
    "import scipy.stats as stats\n",
    "\n",
    "# Statistical models.\n",
    "import statsmodels as sm"
   ]
  },
  {
   "cell_type": "markdown",
   "metadata": {},
   "source": [
    "To generate a sample of 100,000 vaues using the *nump.random.normal()* function, with mean 10.0 and deviation 3.0, we pass in the arguements as below:"
   ]
  },
  {
   "cell_type": "code",
   "execution_count": 43,
   "metadata": {},
   "outputs": [],
   "source": [
    "# reference: https://numpy.org/doc/2.0/reference/random/generated/numpy.random.normal.html\n",
    "data = np.random.normal(loc=10.0, scale=3.0, size=100000)"
   ]
  },
  {
   "cell_type": "markdown",
   "metadata": {},
   "source": [
    "The Shapiro-Wilk test tests the null hypothesis that the data was drawn from a Normal distribution. If the result obtained is extreme enough, we take it as evidence that the null hypothesis is false and that the data is *not* normally distributed. The inverse is not true ie. a non-extreme result cannot be taken as evidence that the data *is* normally distributed. The value of this statistic tends to be high (close to 1) for samples drawn from a normal distribution."
   ]
  },
  {
   "cell_type": "code",
   "execution_count": 44,
   "metadata": {},
   "outputs": [
    {
     "name": "stderr",
     "output_type": "stream",
     "text": [
      "C:\\Users\\james\\AppData\\Local\\Temp\\ipykernel_18060\\497950592.py:2: UserWarning: scipy.stats.shapiro: For N > 5000, computed p-value may not be accurate. Current N is 100000.\n",
      "  stats.shapiro(data)\n"
     ]
    },
    {
     "data": {
      "text/plain": [
       "ShapiroResult(statistic=0.9999818310778583, pvalue=0.9505182131707008)"
      ]
     },
     "execution_count": 44,
     "metadata": {},
     "output_type": "execute_result"
    }
   ],
   "source": [
    "# Perform the Shapiro Wilk test.\n",
    "stats.shapiro(data)"
   ]
  },
  {
   "cell_type": "markdown",
   "metadata": {},
   "source": [
    "I will now plot a histogram values and plot the corresponding normal distribution probability density function on top of it:"
   ]
  },
  {
   "cell_type": "code",
   "execution_count": 51,
   "metadata": {},
   "outputs": [
    {
     "data": {
      "image/png": "[encoded data removed]",
      "text/plain": [
       "<Figure size 1000x600 with 1 Axes>"
      ]
     },
     "metadata": {},
     "output_type": "display_data"
    }
   ],
   "source": [
    "# Plotting the histogram firstly.\n",
    "plt.figure(figsize=(10, 6))\n",
    "\n",
    "# Passing in the random sample data, colouring the bars, and making the bars slightly transparent with darkened sides to improve appearance\n",
    "plt.hist(data, bins=50, color='wheat', edgecolor='black')\n",
    "plt.title(\"Random sample of 100000 values from numpy.random.normal function\")\n",
    "plt.xlabel(\"Value\")\n",
    "plt.ylabel(\"Frequency\")\n",
    "plt.show()"
   ]
  },
  {
   "cell_type": "markdown",
   "metadata": {},
   "source": [
    "#### Task 3: t-Test Calculation ####"
   ]
  },
  {
   "cell_type": "markdown",
   "metadata": {},
   "source": [
    "In Task 3, the lecturer has asked us to *consider a dataset containing resting heart rates for patients before and after embarking on a two-week exercise program.*\n",
    "\n",
    "We are asked to *calculate the t-statistic based on this data set, using Python. Compare it to the value given by scipy.stats. Explain your work and list any sources used.*\n",
    "\n"
   ]
  },
  {
   "cell_type": "markdown",
   "metadata": {},
   "source": [
    "#### Task 4: ANOVA ####"
   ]
  },
  {
   "cell_type": "markdown",
   "metadata": {},
   "source": [
    "The lecturers instructions for this Task are as follows: \n",
    "\n",
    "*In this test we will estimate the probability of committing a type II error in specific circumstances. To begin, create a variable called no_type_ii and set it to 0.*\n",
    "\n",
    "*Now use a loop to perform the following test 10,000 times.*\n",
    "\n",
    "*Use numpy.random.normal to generate three samples with 100 values each. Give each a standard deviation of 0.1. Give the first sample a mean of 4.9, the second a mean of 5.0, and the third a mean of 5.1.*\n",
    "\n",
    "*Perform one-way anova on the three samples and add 1 to no_type_ii whenever a type II error occurs.*\n",
    "\n",
    "*Summarize and explain your results.*"
   ]
  },
  {
   "cell_type": "markdown",
   "metadata": {},
   "source": [
    "### References ###\n",
    "\n",
    "##### Task 1 #####\n",
    "\n",
    "##### Task 2 #####\n",
    "\n",
    "##### Task 3 #####\n",
    "\n",
    "##### Task 4 #####\n"
   ]
  }
 ],
 "metadata": {
  "kernelspec": {
   "display_name": "Python 3",
   "language": "python",
   "name": "python3"
  },
  "language_info": {
   "codemirror_mode": {
    "name": "ipython",
    "version": 3
   },
   "file_extension": ".py",
   "mimetype": "text/x-python",
   "name": "python",
   "nbconvert_exporter": "python",
   "pygments_lexer": "ipython3",
   "version": "3.11.9"
  }
 },
 "nbformat": 4,
 "nbformat_minor": 2
}
