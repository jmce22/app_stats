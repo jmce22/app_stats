{
 "cells": [
  {
   "cell_type": "markdown",
   "metadata": {},
   "source": [
    "# Applied Statistics #\n",
    "\n",
    "## Project ##"
   ]
  },
  {
   "cell_type": "markdown",
   "metadata": {},
   "source": [
    "This project forms part of the assessment for the Applied Statistics module of the Higher Diploma in Data Analytics from ATU. In it, I will analyse the PlantGrowth R Dataset: this dataset consists of \"results from an experiment to compare yields (as measured by dried weight of plants) obtained under a control and two different treatment conditions.\" \n",
    "\n",
    "The dataset consists of the 30 rows relating to a sample of a plant. Each row contains data for the weight of the sample plant and whether the sample belongs to the control group, the group which has received 'treatment 1' or the group which has received 'treatment 2'; each of these three groups contain 10 samples. Despite searching, I was unable to determine the unit of measurement of the yields in this dataset, but it seems probable to me that the yields are measured in grams; I have labelled my plots below with this unit of measurement.\n",
    "\n",
    "For this project, I will give an overview of what a **t-test** is, how it works, and what the assumptions are.\n",
    "\n",
    "Next, I will carry out a **t-test** on the PlantGrowth R Dataset to determine whether there is a significant difference between the **two** treatment groups trt1 and trt2.\n",
    "\n",
    "Then to investigate whether there is a significant difference between the **three** treatment groups ctrl, trt1, and trt2, I will carry out **ANOVA**.\n"
   ]
  },
  {
   "cell_type": "code",
   "execution_count": 14,
   "metadata": {},
   "outputs": [],
   "source": [
    "# First I will import the libraries which I will use for this project\n",
    "# Numerical arrays.\n",
    "import numpy as np\n",
    "\n",
    "# Statistical functions.\n",
    "import scipy.stats as stats\n",
    "\n",
    "# Data frames.\n",
    "import pandas as pd\n",
    "\n",
    "# Plotting.\n",
    "import matplotlib.pyplot as plt\n",
    "\n",
    "# Statistical plots.\n",
    "import seaborn as sns"
   ]
  },
  {
   "cell_type": "markdown",
   "metadata": {},
   "source": [
    "I will use `pandas` to create a dataframe from the 'PlantGrowth.csv' file:"
   ]
  },
  {
   "cell_type": "code",
   "execution_count": 15,
   "metadata": {},
   "outputs": [
    {
     "name": "stdout",
     "output_type": "stream",
     "text": [
      "    rownames  weight group\n",
      "0          1    4.17  ctrl\n",
      "1          2    5.58  ctrl\n",
      "2          3    5.18  ctrl\n",
      "3          4    6.11  ctrl\n",
      "4          5    4.50  ctrl\n",
      "5          6    4.61  ctrl\n",
      "6          7    5.17  ctrl\n",
      "7          8    4.53  ctrl\n",
      "8          9    5.33  ctrl\n",
      "9         10    5.14  ctrl\n",
      "10        11    4.81  trt1\n",
      "11        12    4.17  trt1\n",
      "12        13    4.41  trt1\n",
      "13        14    3.59  trt1\n",
      "14        15    5.87  trt1\n",
      "15        16    3.83  trt1\n",
      "16        17    6.03  trt1\n",
      "17        18    4.89  trt1\n",
      "18        19    4.32  trt1\n",
      "19        20    4.69  trt1\n",
      "20        21    6.31  trt2\n",
      "21        22    5.12  trt2\n",
      "22        23    5.54  trt2\n",
      "23        24    5.50  trt2\n",
      "24        25    5.37  trt2\n",
      "25        26    5.29  trt2\n",
      "26        27    4.92  trt2\n",
      "27        28    6.15  trt2\n",
      "28        29    5.80  trt2\n",
      "29        30    5.26  trt2\n"
     ]
    }
   ],
   "source": [
    "# creating a dataframe using pandas, passing in the relative path to the file\n",
    "df = pd.read_csv('./data/plantGrowth.csv')\n",
    "\n",
    "print(df)"
   ]
  },
  {
   "cell_type": "markdown",
   "metadata": {},
   "source": [
    "### T-test ###\n",
    "\n",
    "According to Wikipedia, a T-test is 'a statistical test used to test whether the difference between the response of two groups is statistically significant or not'. We can use it to test whether we can reject a null (default) hypothesis that two groups have the same mean values. If we have more than two groups which we would like to compare the means of we must use a multiple comparisons test such as ANOVA (Analysis of Variance) instead.\n",
    "\n",
    "In the context of comparing mean values of populations, the null hypothesis is the hypothesis that there is no difference between the means of the two populations. Depending on how extreme the outcome of the experiment is, we can either reject the null hypothesis or fail to reject the null hypothesis. If the value of the t-statistic calculated using the sample data is sufficiently extreme and the probability (p-value) of such a value occurring is less than a chosen level (α or alpha), often 5%, then we reject the null hypothesis. Otherwise, we fail to reject the null hypothesis. It should be noted that if we fail to reject the null hypothesis, this does not prove that the null hypothesis is true; rather, that the data do not provide strong enough evidence against it.\n",
    "\n",
    "Depending on the nature of the data we want to investigate and the aim of our experiment, we can carry out a one sample t-test, a two-sample t-test or a paired t-test:\n",
    "- one sample t-test: Example: testing if the height of a randomly selected group of 100 men from a country differs from the supposed national average.\n",
    "- two sample t-test: also called independent samples t-test. Example: Two different groups of 20 people follow different weight loss diets over the course of 4 weeks and their average weight loss is compared at the end.\n",
    "- paired t-test: also called dependent samples t-test. Example: A group of 20 subjects is asked to sit a maths exam at 9 am before having a coffee, and their average score is measured. The next day, they sit another maths exam, but have a coffee one hour before, and their average score is measured. The difference is average scores are analysed.\n",
    "\n",
    "Some assumptions which underpin t-tests include the following:\n",
    "- Data are continuous rather than discrete\n",
    "- Sample data have been randomly sampled from a population\n",
    "- Groups of data being analysed have homogeneous variances (variability is equal within each group)\n",
    "- Data are normally distributed\n",
    "\n",
    "To carry out a t-test, we need to do the following:\n",
    "1. Outline what the null (H0) and alternative hypotheses (Ha) will be for our test.\n",
    "2. Decide what level of significance we will use (α or alpha). \n",
    "3. Check that the assumptions of a t-test are met for the data being tested.\n",
    "4. Choose the correct formulation of the t-test - that is, is it a one-sample test or two-sample test.\n",
    "5. Perform the test and compare the calculated t-statistic to a theoretical value from a t-distribution which takes account of the degrees of freedom of the data. "
   ]
  },
  {
   "cell_type": "markdown",
   "metadata": {},
   "source": [
    "### T-test on PlantGrowth dataset ###\n",
    "\n",
    "To compare the mean of the two treatment groups, trt1 and trt2, we can use an independent samples t-test. The reason we use an independent samples test, is that each sample in the trt1 group is not related to any of the samples in trt2 group.\n",
    "\n",
    "To carry out such a test on our data, we will use the `ttest_ind` function from `scipy stats`:"
   ]
  },
  {
   "cell_type": "code",
   "execution_count": 16,
   "metadata": {},
   "outputs": [
    {
     "data": {
      "text/plain": [
       "TtestResult(statistic=-3.0100985421243616, pvalue=0.0075184261182198574, df=18.0)"
      ]
     },
     "execution_count": 16,
     "metadata": {},
     "output_type": "execute_result"
    }
   ],
   "source": [
    "# to use ttest_ind, we will need to prepare the arguments 'trt_1' and 'trt_2' which will be passed into the function:\n",
    "# trt_1: this creates a dataframe consisting of the weights where the value in the column 'group' of \n",
    "# the original dataframe 'df' is equal to 'trt 1'\n",
    "trt_1 = df[df['group'] == 'trt1']['weight']\n",
    "\n",
    "# likewise for trt_2:\n",
    "trt_2 = df[df['group'] == 'trt2']['weight']\n",
    "\n",
    "# once we have these two sub-dataframes, we can pass them into ttest_ind()\n",
    "\n",
    "stats.ttest_ind(trt_1, trt_2)"
   ]
  },
  {
   "cell_type": "markdown",
   "metadata": {},
   "source": [
    "We can interpret the results of this t-test as follows:\n",
    "\n",
    "**T-stat** = approx -3.01. This indicates that the mean of the first group was 3 standard errors away from the mean of the second group. We can also tell that the mean of the first group was smaller than the mean of the second group, because in the formula\n",
    "\n",
    "![ind_ttest_formula](img/ind_ttest_formula.jpg)\n",
    "\n",
    "we subtract the mean of the second group from the mean of the first group.\n",
    "\n",
    "**P-value** = 0.0075. This tells us that, if the null hypothesis of equal means between the two groups was true, the chance of seeing an outcome as extreme as this would be 0.75%.\n",
    "\n",
    "**df** = 18. The degrees of freedom for an independent samples t-test is n1 + n2 - 2, where n1 and n2 are the number of samples in the first and second groups respectively (ie. 10 + 10 - 2 = 18). As the degrees of freedom increases, the tails of the t-distribution become thinner (platykurtic) and the liklihood of an extreme value decreases.\n",
    "\n",
    "To provide a visualisation of the datasets of each treatment group, we can create a histogram as shown below:"
   ]
  },
  {
   "cell_type": "code",
   "execution_count": 17,
   "metadata": {},
   "outputs": [
    {
     "data": {
      "image/png": "[encoded data removed]",
      "text/plain": [
       "<Figure size 1000x600 with 1 Axes>"
      ]
     },
     "metadata": {},
     "output_type": "display_data"
    }
   ],
   "source": [
    "# creating a new figure and setting the size of it\n",
    "plt.figure(figsize=(10, 6))\n",
    "\n",
    "# Histogram for heart_rate_before. By using the alpha paramter we can make the plot slightly transparent to allow\n",
    "# us to overlap the heart_rate_before data with the heart_rate_after data:\n",
    "plt.hist(trt_1, alpha= 0.7, label='Treatment_1', color='green', edgecolor='black')\n",
    "\n",
    "# Histogram for heart_rate_after:\n",
    "plt.hist(trt_2, alpha=0.7, label='Treatment_2', color='blue', edgecolor='black')\n",
    "\n",
    "# Adding titles and labels\n",
    "plt.title('Plant growth yields by Treatment group', fontsize=14)\n",
    "plt.xlabel('Growth yields in grams', fontsize=10)\n",
    "plt.ylabel('Frequency', fontsize=10)\n",
    "plt.legend(fontsize=10)\n",
    "\n",
    "# Show plot, including a transparent grid on the y-axis\n",
    "plt.grid(axis='y', alpha=0.7)\n",
    "plt.show()"
   ]
  },
  {
   "cell_type": "markdown",
   "metadata": {},
   "source": [
    "This histogram illustrates the point above, that the mean of the 'treatment group 1' is smaller than the mean of 'treatment group 2', as we can see the data for the first group is shifted considerably to the left compared to that for the second group."
   ]
  },
  {
   "cell_type": "markdown",
   "metadata": {},
   "source": [
    "### ANOVA ###\n",
    "\n",
    "To compare whether there is a significant difference between the three treatment groups, ctrl, trt1, and trt2, we use ANOVA. \n",
    "\n",
    "For one-way (single-factor) ANOVA, we use the F-statitic to calculate the ratio of the variance between the groups to the variance within the groups. We use tables to calculate a critical value of F at a certain significance level (α); this critical value of F depends upon the degrees of freedom of the numerator and the denominator. If F ≥ FCritical, we reject the null hypothesis.\n",
    "\n",
    "To calculate the F-statistic, we can use the `f_oneway` function from scipy.stats. We will pass in the three treatment groups to this function:"
   ]
  },
  {
   "cell_type": "code",
   "execution_count": 18,
   "metadata": {},
   "outputs": [
    {
     "data": {
      "text/plain": [
       "F_onewayResult(statistic=4.846087862380136, pvalue=0.015909958325622895)"
      ]
     },
     "execution_count": 18,
     "metadata": {},
     "output_type": "execute_result"
    }
   ],
   "source": [
    "# We have already created a sub-dataframe for trt1 and trt2 but still need to create one for the control group:\n",
    "ctrl = df[df['group'] == 'ctrl']['weight']\n",
    "\n",
    "# passing in the three arguments:\n",
    "stats.f_oneway(ctrl, trt_1, trt_2)"
   ]
  },
  {
   "cell_type": "markdown",
   "metadata": {},
   "source": [
    "We can interpret the results of this test as follows:\n",
    "\n",
    "**F-statistic**: 4.846. The significance of the F-statistic depends upon the degrees of freedom of the numberator and denominator. \n",
    "- The df of the numerator is K - 1, with K referring to the number of groups being compared. In this case there are 3 groups, do the df for the numerator = 3 - 1 = 2.\n",
    "- The df of the denominator is N - 1, with N refering to the overall sample size. In this case, the sample size is 30, so the df for the denominator = 30 - 1 = 29.\n",
    "\n",
    "From looking at the F Distribution tables for df1 = 2 and df2 = 29, we see that the 5% critical value for the F-statistic is 2.49548. http://www.socr.ucla.edu/Applets.dir/F_Table.html\n",
    "\n",
    "The F-statistic of 4.546 we obtained exceeds this critical value, indicating the means of each of three groups are unlikely to be equal.\n",
    "\n",
    "**p-value**: 0.0159. This tells us that, if the null hypothesis of equal means between the three groups was true, the chance of seeing an outcome of the variance between the three groups being as extreme as this would be 1.59%.\n",
    "\n",
    "To analyse the pairwise comparisons of each of the groups, we can use Tukey's honestly significant difference test (HSD):\n"
   ]
  },
  {
   "cell_type": "code",
   "execution_count": 22,
   "metadata": {},
   "outputs": [
    {
     "name": "stdout",
     "output_type": "stream",
     "text": [
      "Tukey's HSD Pairwise Group Comparisons (95.0% Confidence Interval)\n",
      "Comparison  Statistic  p-value  Lower CI  Upper CI\n",
      " (0 - 1)      0.371     0.391    -0.320     1.062\n",
      " (0 - 2)     -0.494     0.198    -1.185     0.197\n",
      " (1 - 0)     -0.371     0.391    -1.062     0.320\n",
      " (1 - 2)     -0.865     0.012    -1.556    -0.174\n",
      " (2 - 0)      0.494     0.198    -0.197     1.185\n",
      " (2 - 1)      0.865     0.012     0.174     1.556\n",
      "\n"
     ]
    }
   ],
   "source": [
    "res = stats.tukey_hsd(ctrl, trt_1, trt_2)\n",
    "\n",
    "print(res)"
   ]
  },
  {
   "cell_type": "markdown",
   "metadata": {},
   "source": [
    "The results of this post-hoc test show that the difference in means between the group which received treatment 1 and the group which received treatment 2 are large enough that they are statistically significant at the 5% significance level; we can tell this since the p-value is less than 0.05 for these comparisons. For the difference in means between the control group and each of the two treatment groups, the p-values are comfortably above 0.05, indicating that the difference in means between the control group and these groups is not significant."
   ]
  },
  {
   "cell_type": "markdown",
   "metadata": {},
   "source": [
    "### Multiple T-Tests vs ANOVA ###\n",
    "\n",
    "When comparing the means of more than two groups, it is more appropriate to use ANOVA than multiple t-tests for a few reasons:\n",
    "\n",
    "1. For a t-test, there is always a chance of a type I error. This is the also known as a false positive, as it refers to when the null hypothesis is rejected despite it being true. The probability of a type I error is equal to the significance level of the test. In the case of one t-test with a signficance level (α) of 5%, you have a 5% of seeing a type 1 error. If you had seven datasets and wanted to compare the means of each dataset to one another, you would have 21 pairwise combinations; if each of these has a 5% chance of producing a type-I error, it becomes likely that you will see at least one type I error.\n",
    "\n",
    "2. Carrying out ANOVA is computationally more efficient than carrying out multiple t-tests.\n",
    "\n",
    "3. ANOVA allows for post-hoc testing to identify the source or sources of a significant result, after a signficant result is indicated."
   ]
  },
  {
   "cell_type": "markdown",
   "metadata": {},
   "source": [
    "### References ###\n",
    "\n"
   ]
  }
 ],
 "metadata": {
  "kernelspec": {
   "display_name": "Python 3",
   "language": "python",
   "name": "python3"
  },
  "language_info": {
   "codemirror_mode": {
    "name": "ipython",
    "version": 3
   },
   "file_extension": ".py",
   "mimetype": "text/x-python",
   "name": "python",
   "nbconvert_exporter": "python",
   "pygments_lexer": "ipython3",
   "version": "3.11.9"
  }
 },
 "nbformat": 4,
 "nbformat_minor": 2
}
