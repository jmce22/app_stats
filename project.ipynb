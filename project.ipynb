{
 "cells": [
  {
   "cell_type": "markdown",
   "metadata": {},
   "source": [
    "# Applied Statistics #\n",
    "\n",
    "## Project ##"
   ]
  },
  {
   "cell_type": "markdown",
   "metadata": {},
   "source": [
    "This project forms part of the assessment for the Applied Statistics module of the Higher Diploma in Data Analytics from ATU. In it, I will analyse the PlantGrowth R Dataset: this dataset consists of \"results from an experiment to compare yields (as measured by dried weight of plants) obtained under a control and two different treatment conditions.\" [1]\n",
    "\n",
    "The dataset consists of the 30 rows relating to a sample of a plant. Each row contains data for the weight of the sample plant and whether the sample belongs to the control group, the group which has received 'treatment 1' or the group which has received 'treatment 2'; each of these three groups contain 10 samples.\n",
    "\n",
    "For this project, I will give an overview of what a **t-test** is, how it works, and what the assumptions are.\n",
    "\n",
    "Next I will carry out a **t-test** on the PlantGrowth R Dataset to determine whether there is a significant difference between the **two** treatment groups trt1 and trt2.\n",
    "\n",
    "Then to investigate whether there is a significant difference between the **three** treatment groups ctrl, trt1, and trt2, I will carry out **ANOVA**.\n"
   ]
  },
  {
   "cell_type": "code",
   "execution_count": 1,
   "metadata": {},
   "outputs": [
    {
     "name": "stderr",
     "output_type": "stream",
     "text": [
      "C:\\Users\\james\\AppData\\Local\\Temp\\ipykernel_13156\\1248653123.py:9: DeprecationWarning: \n",
      "Pyarrow will become a required dependency of pandas in the next major release of pandas (pandas 3.0),\n",
      "(to allow more performant data types, such as the Arrow string type, and better interoperability with other libraries)\n",
      "but was not found to be installed on your system.\n",
      "If this would cause problems for you,\n",
      "please provide us feedback at https://github.com/pandas-dev/pandas/issues/54466\n",
      "        \n",
      "  import pandas as pd\n"
     ]
    }
   ],
   "source": [
    "# First I will import the libraries which I will use for this project\n",
    "# Numerical arrays.\n",
    "import numpy as np\n",
    "\n",
    "# Statistical functions.\n",
    "import scipy.stats as stats\n",
    "\n",
    "# Data frames.\n",
    "import pandas as pd\n",
    "\n",
    "# Plotting.\n",
    "import matplotlib.pyplot as plt\n",
    "\n",
    "# Statistical plots.\n",
    "import seaborn as sns"
   ]
  },
  {
   "cell_type": "markdown",
   "metadata": {},
   "source": [
    "I will use `pandas` to create a dataframe from the 'PlantGrowth.csv' file:"
   ]
  },
  {
   "cell_type": "code",
   "execution_count": 4,
   "metadata": {},
   "outputs": [
    {
     "name": "stdout",
     "output_type": "stream",
     "text": [
      "    rownames  weight group\n",
      "0          1    4.17  ctrl\n",
      "1          2    5.58  ctrl\n",
      "2          3    5.18  ctrl\n",
      "3          4    6.11  ctrl\n",
      "4          5    4.50  ctrl\n",
      "5          6    4.61  ctrl\n",
      "6          7    5.17  ctrl\n",
      "7          8    4.53  ctrl\n",
      "8          9    5.33  ctrl\n",
      "9         10    5.14  ctrl\n",
      "10        11    4.81  trt1\n",
      "11        12    4.17  trt1\n",
      "12        13    4.41  trt1\n",
      "13        14    3.59  trt1\n",
      "14        15    5.87  trt1\n",
      "15        16    3.83  trt1\n",
      "16        17    6.03  trt1\n",
      "17        18    4.89  trt1\n",
      "18        19    4.32  trt1\n",
      "19        20    4.69  trt1\n",
      "20        21    6.31  trt2\n",
      "21        22    5.12  trt2\n",
      "22        23    5.54  trt2\n",
      "23        24    5.50  trt2\n",
      "24        25    5.37  trt2\n",
      "25        26    5.29  trt2\n",
      "26        27    4.92  trt2\n",
      "27        28    6.15  trt2\n",
      "28        29    5.80  trt2\n",
      "29        30    5.26  trt2\n"
     ]
    }
   ],
   "source": [
    "# creating a dataframe using pandas, passing in the relative path to the file\n",
    "df = pd.read_csv('./data/plantGrowth.csv')\n",
    "\n",
    "print(df)"
   ]
  },
  {
   "cell_type": "markdown",
   "metadata": {},
   "source": [
    "### T-test ###\n",
    "\n",
    "A T-test is 'a statistical test used to test whether the difference between the response of two groups is statistically significant or not'. We can use it to test whether we can reject a null hypothesis that two groups have different mean values."
   ]
  },
  {
   "cell_type": "markdown",
   "metadata": {},
   "source": [
    "### References ###\n",
    "\n",
    "[1]"
   ]
  }
 ],
 "metadata": {
  "kernelspec": {
   "display_name": "Python 3",
   "language": "python",
   "name": "python3"
  },
  "language_info": {
   "codemirror_mode": {
    "name": "ipython",
    "version": 3
   },
   "file_extension": ".py",
   "mimetype": "text/x-python",
   "name": "python",
   "nbconvert_exporter": "python",
   "pygments_lexer": "ipython3",
   "version": "3.11.9"
  }
 },
 "nbformat": 4,
 "nbformat_minor": 2
}
