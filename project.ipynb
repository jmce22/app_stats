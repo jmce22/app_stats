{
 "cells": [
  {
   "cell_type": "markdown",
   "metadata": {},
   "source": [
    "# Applied Statistics #\n",
    "\n",
    "## Project ##"
   ]
  },
  {
   "cell_type": "markdown",
   "metadata": {},
   "source": [
    "This project forms part of the assessment for the Applied Statistics module of the Higher Diploma in Data Analytics from ATU. In it, I will analyse the PlantGrowth R Dataset: this dataset consists of \"results from an experiment to compare yields (as measured by dried weight of plants) obtained under a control and two different treatment conditions.\" [1]\n",
    "\n",
    "The dataset consists of the 30 rows relating to a sample of a plant. Each row contains data for the weight of the sample plant and whether the sample belongs to the control group, the group which has received 'treatment 1' or the group which has received 'treatment 2'; each of these three groups contain 10 samples.\n",
    "\n",
    "For this project, I will give an overview of what a **t-test** is, how it works, and what the assumptions are.\n",
    "\n",
    "Next I will carry out a **t-test** on the PlantGrowth R Dataset to determine whether there is a significant difference between the **two** treatment groups trt1 and trt2.\n",
    "\n",
    "Then to investigate whether there is a significant difference between the **three** treatment groups ctrl, trt1, and trt2, I will carry out **ANOVA**.\n"
   ]
  },
  {
   "cell_type": "code",
   "execution_count": null,
   "metadata": {},
   "outputs": [],
   "source": [
    "# First I will import the libraries which I will use for this project\n",
    "# Numerical arrays.\n",
    "import numpy as np\n",
    "\n",
    "# Statistical functions.\n",
    "import scipy.stats as stats\n",
    "\n",
    "# Data frames.\n",
    "import pandas as pd\n",
    "\n",
    "# Plotting.\n",
    "import matplotlib.pyplot as plt\n",
    "\n",
    "# Statistical plots.\n",
    "import seaborn as sns"
   ]
  },
  {
   "cell_type": "markdown",
   "metadata": {},
   "source": [
    "I will use `pandas` to create a dataframe from the 'PlantGrowth.csv' file:"
   ]
  },
  {
   "cell_type": "code",
   "execution_count": null,
   "metadata": {},
   "outputs": [],
   "source": [
    "# creating a dataframe using pandas, passing in the relative path to the file\n",
    "df = pd.read_csv('./data/plantGrowth.csv')\n",
    "\n",
    "print(df)"
   ]
  },
  {
   "cell_type": "markdown",
   "metadata": {},
   "source": [
    "### T-test ###\n",
    "\n",
    "A T-test is 'a statistical test used to test whether the difference between the response of two groups is statistically significant or not'. We can use it to test whether we can reject a null (default) hypothesis that two groups have the same mean values. If we have more than two groups which we would like to compare the means of we must use a multiple comparisons test such as ANOVA (Analysis of Variance) instead.\n",
    "\n",
    "In the context of comparing mean values of populations, the null hypothesis is the hypothesis that there is no difference between the means of the two populations. Depending on how extreme the outcome of the experiment is, we can either reject the null hypothesis or fail to reject the null hypothesis. If the value of the t-statistic calculated using the sample data is sufficiently extreme and the probability (p-value) of such a value occurring is less than a chosen level (α or alpha), often 5%, then we reject the null hypothesis. Otherwise we fail to reject the null hypothesis. It should be noted that if we fail to reject the null hypothesis, this does not prove that the null hypothesis is true; rather, that the data do not provide strong enough evidence against it.\n",
    "\n",
    "Depending on the nature of the data we want to investigate and the aim of our experiment, we can carry out a one sample t-test, a two-sample t-test or a paired t-test:\n",
    "- one sample t-test: Example: testing if the height of a randomly selected group of 100 men from a country differs from the supposed national average.\n",
    "- two sample t-test: also called independent samples t-test. Example: Two different groups of 20 people follow different weight loss diets over the course of 4 weeks and their average weight loss is compared at the end.\n",
    "- paired t-test: also called dependent samples t-test. Example: A group of 20 subjects is asked to sit a maths exam at 9 am before having a coffee, and their average score is measured. The next day, they sit another maths exam, but have a coffee one hour before, and their average score is measured. The difference is average scores are analysed.\n",
    "\n",
    "Some assumptions which underpin t-tests include the following:\n",
    "- Data are continuous rather than discrete\n",
    "- Sample data have been randomly sampled from a population\n",
    "- Groups of data being analysed have homogeneous variances (variability is equal within each group)\n",
    "- Data are normally distributed\n",
    "\n",
    "To carry out a t-test, we need to do the following:\n",
    "1. Outline what the null (H0) and alternative hypotheses (Ha) will be for our test.\n",
    "2. Decide what level of significance we will use (α or alpha). \n",
    "3. Check that the assumptions of a t-test are met for the data being tested.\n",
    "4. Choose the correct formulation of the t-test - that is, is it a one-sample test or two-sample test.\n",
    "5. Perform the test and compare the calculated t-statistic to a theoretical value from a t-distribution which akes account of the degrees of freedom of the data. "
   ]
  },
  {
   "cell_type": "markdown",
   "metadata": {},
   "source": [
    "### T-test on PlantGrowth dataset ###\n",
    "\n",
    "To compare the mean of the two treatment groups, trt1 and trt2, we can use an independent samples t-test. The reason we use an independent samples test, is that each sample in the trt1 group is not related to any of the samples in trt2 group.\n",
    "\n",
    "To carry out such a test on our data, we will use the `ttest_ind` function from `scipy stats`:"
   ]
  },
  {
   "cell_type": "code",
   "execution_count": 11,
   "metadata": {},
   "outputs": [
    {
     "data": {
      "text/plain": [
       "TtestResult(statistic=-3.0100985421243616, pvalue=0.0075184261182198574, df=18.0)"
      ]
     },
     "execution_count": 11,
     "metadata": {},
     "output_type": "execute_result"
    }
   ],
   "source": [
    "# to use ttest_ind, we will need to prepare the arguments 'trt_1' and 'trt_2' which will be passed into the function:\n",
    "# trt_1: this creates a dataframe consisting of the weights where the value in the column 'group' of \n",
    "# the original dataframe 'df' is equal to 'trt 1'\n",
    "trt_1 = df[df['group'] == 'trt1']['weight']\n",
    "\n",
    "# likewise for trt_2:\n",
    "trt_2 = df[df['group'] == 'trt2']['weight']\n",
    "\n",
    "# once we have these two sub-dataframes, we can pass them into ttest_ind()\n",
    "\n",
    "stats.ttest_ind(trt_1, trt_2)"
   ]
  },
  {
   "cell_type": "markdown",
   "metadata": {},
   "source": [
    "### References ###\n",
    "\n",
    "[1]"
   ]
  }
 ],
 "metadata": {
  "kernelspec": {
   "display_name": "Python 3",
   "language": "python",
   "name": "python3"
  },
  "language_info": {
   "codemirror_mode": {
    "name": "ipython",
    "version": 3
   },
   "file_extension": ".py",
   "mimetype": "text/x-python",
   "name": "python",
   "nbconvert_exporter": "python",
   "pygments_lexer": "ipython3",
   "version": "3.11.9"
  }
 },
 "nbformat": 4,
 "nbformat_minor": 2
}
